{
 "cells": [
  {
   "cell_type": "markdown",
   "metadata": {},
   "source": [
    "open D drive for jupyter notebook"
   ]
  },
  {
   "cell_type": "markdown",
   "metadata": {},
   "source": [
    "jupyter notebook --notebook-dir=D:/"
   ]
  },
  {
   "cell_type": "markdown",
   "metadata": {},
   "source": [
    "## Get started"
   ]
  },
  {
   "cell_type": "code",
   "execution_count": null,
   "metadata": {},
   "outputs": [],
   "source": [
    "import numpy as np\n",
    "import pandas as pd\n",
    "import matplotlib.pyplot as plt\n",
    "\n",
    "%matplotlib notebook"
   ]
  },
  {
   "cell_type": "markdown",
   "metadata": {},
   "source": [
    "## Creat a graph"
   ]
  },
  {
   "cell_type": "code",
   "execution_count": null,
   "metadata": {},
   "outputs": [],
   "source": [
    "# quickly create a certain type of graph\n",
    "plt.plot(data)\n",
    "\n",
    "plt.hist(data) #create histgram \n",
    "plt.scatter(data) #scatter plot\n",
    "plt.bar(data) #bar graph\n",
    "\n",
    "# create subplot\n",
    "fig, ax = plt.subplots()\n",
    "ax.plot(data)\n",
    "\n",
    "fig, axes = plt.subplot(2, 3)\n",
    "axes[0, 1].plot()\n",
    "\n",
    "# create one or more subplots within a figure\n",
    "fig = plt.figure() # which is a blank figure\n",
    "ax1 = fig.add_subplot(2, 2, 1)\n",
    "ax2 = fig.add_subplot(2, 2, 2)\n",
    "ax3 = fig.add_subplot(2, 2, 3)\n",
    "\n",
    "ax1.hist()\n",
    "ax2.scatter() #then can plot on each of the subplots\n",
    "\n",
    "# add a title\n",
    "ax.set_title('The Title')"
   ]
  },
  {
   "cell_type": "markdown",
   "metadata": {},
   "source": [
    "## Change labels"
   ]
  },
  {
   "cell_type": "code",
   "execution_count": null,
   "metadata": {},
   "outputs": [],
   "source": [
    "plt.xlabel(\"xlabel\")\n",
    "plt.ylabel(\"ylabel\")\n",
    "\n",
    "ax.set_xlabel('xlabel')\n",
    "ax.set_ylabel('ylabel')"
   ]
  },
  {
   "cell_type": "markdown",
   "metadata": {},
   "source": [
    "## Edit axes features"
   ]
  },
  {
   "cell_type": "code",
   "execution_count": null,
   "metadata": {},
   "outputs": [],
   "source": [
    "ax = plt.gca()\n",
    "\n",
    "#set the numeric values where the ticks appear (e.g. 5, 10, 15...)\n",
    "ax.set_xticks(values)\n",
    "ax.set_yticks(values)\n",
    "\n",
    "#set the label for the ticks (e.g. Jan, Feb, Mar...)\n",
    "ax.set_xticklabels(labels)\n",
    "\n",
    "#change ticks parameters (e.g. color)\n",
    "ax.tick_params(colors='grey')\n",
    "\n",
    "#change visibility and color of the four spines\n",
    "ax.spines['bottom'].set_color('grey')\n",
    "ax.spines['left'].set_color('grey')\n",
    "ax.spines['top'].set_visible(False)\n",
    "ax.spines['right'].set_visible(False)"
   ]
  },
  {
   "cell_type": "markdown",
   "metadata": {},
   "source": [
    "## Set the range of the x,y axes"
   ]
  },
  {
   "cell_type": "code",
   "execution_count": null,
   "metadata": {},
   "outputs": [],
   "source": [
    "ax.set_xlim([0, 10])\n",
    "ax.set_ylim([20, 50])"
   ]
  },
  {
   "cell_type": "markdown",
   "metadata": {},
   "source": [
    "## Save the plot to file"
   ]
  },
  {
   "cell_type": "code",
   "execution_count": null,
   "metadata": {},
   "outputs": [],
   "source": [
    "plt.savefig('fig.png', dpi=400, bbox_inches='tight') #with minimal white space around the plot"
   ]
  },
  {
   "cell_type": "markdown",
   "metadata": {},
   "source": [
    "### Color references"
   ]
  },
  {
   "cell_type": "markdown",
   "metadata": {},
   "source": [
    "https://matplotlib.org/3.5.0/tutorials/colors/colors.html"
   ]
  },
  {
   "cell_type": "markdown",
   "metadata": {},
   "source": [
    "### Quick cheat sheet"
   ]
  },
  {
   "cell_type": "markdown",
   "metadata": {},
   "source": [
    "https://matplotlib.org/cheatsheets/_images/cheatsheets-1.png"
   ]
  },
  {
   "cell_type": "code",
   "execution_count": null,
   "metadata": {},
   "outputs": [],
   "source": []
  }
 ],
 "metadata": {
  "kernelspec": {
   "display_name": "Python 3",
   "language": "python",
   "name": "python3"
  },
  "language_info": {
   "codemirror_mode": {
    "name": "ipython",
    "version": 3
   },
   "file_extension": ".py",
   "mimetype": "text/x-python",
   "name": "python",
   "nbconvert_exporter": "python",
   "pygments_lexer": "ipython3",
   "version": "3.7.6"
  }
 },
 "nbformat": 4,
 "nbformat_minor": 4
}
